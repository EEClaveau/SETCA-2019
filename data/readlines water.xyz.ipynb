{
 "cells": [
  {
   "cell_type": "markdown",
   "metadata": {},
   "source": [
    "## readlines water.xyz"
   ]
  },
  {
   "cell_type": "code",
   "execution_count": 1,
   "metadata": {},
   "outputs": [
    {
     "name": "stdout",
     "output_type": "stream",
     "text": [
      "water.xyz\n"
     ]
    }
   ],
   "source": [
    "import numpy\n",
    "import os\n",
    "\n",
    "file_location = os.path.join('water.xyz')   #NOTE: if you have a differentlly named xyz file such as benzene.xyz, we can change the file name, reexecute the code and now have all of the information for benzene\n",
    "print(file_location)"
   ]
  },
  {
   "cell_type": "code",
   "execution_count": 2,
   "metadata": {},
   "outputs": [
    {
     "name": "stdout",
     "output_type": "stream",
     "text": [
      "water.xyz\n"
     ]
    }
   ],
   "source": [
    "print(file_location)"
   ]
  },
  {
   "cell_type": "code",
   "execution_count": 3,
   "metadata": {},
   "outputs": [],
   "source": [
    "xyz_file = open(file_location,'r')"
   ]
  },
  {
   "cell_type": "code",
   "execution_count": 4,
   "metadata": {},
   "outputs": [],
   "source": [
    "data = xyz_file.readlines()"
   ]
  },
  {
   "cell_type": "code",
   "execution_count": 5,
   "metadata": {},
   "outputs": [
    {
     "name": "stdout",
     "output_type": "stream",
     "text": [
      "['3\\n', 'Water xyz file\\n', 'O        0.000000     -0.007156      0.965491\\n', 'H1      -0.000000      0.001486     -0.003471\\n', 'H2       0.000000      0.931026      1.207929\\n']\n"
     ]
    }
   ],
   "source": [
    "print(data)"
   ]
  },
  {
   "cell_type": "code",
   "execution_count": 6,
   "metadata": {},
   "outputs": [
    {
     "name": "stdout",
     "output_type": "stream",
     "text": [
      "3\n"
     ]
    }
   ],
   "source": [
    "num_atom = int(data[0])\n",
    "print(num_atom)"
   ]
  },
  {
   "cell_type": "code",
   "execution_count": 7,
   "metadata": {},
   "outputs": [],
   "source": [
    "coord_data = data[2:]"
   ]
  },
  {
   "cell_type": "code",
   "execution_count": 8,
   "metadata": {},
   "outputs": [],
   "source": [
    "symbols = [] #make sure this title is different so as not to overwrite \n",
    "coordinates = []\n",
    "\n",
    "for atom in coord_data:\n",
    "    atom_data = atom.split()\n",
    "    symbol = atom_data[0]\n",
    "    symbols.append(symbol)\n",
    "    x, y, z = atom_data[1],atom_data[2],atom_data[3]\n",
    "    coordinates.append([float(x),float(y),float (z)])"
   ]
  },
  {
   "cell_type": "code",
   "execution_count": 9,
   "metadata": {},
   "outputs": [],
   "source": [
    "def calculate_distance (atom1, atom2):\n",
    "    x_distance = atom1[0]-atom2[0]\n",
    "    y_distance = atom1[1]-atom2[1]\n",
    "    z_distance = atom1[2]-atom2[2]\n",
    "    distance = numpy.sqrt(x_distance**2+y_distance**2+z_distance**2)\n",
    "    return distance"
   ]
  },
  {
   "cell_type": "code",
   "execution_count": 16,
   "metadata": {},
   "outputs": [],
   "source": [
    "def bond_check(bond_distance, minimum_value, maximum_value):\n",
    "    #input of single number, check and see if it meets criteria return true, if not return false\n",
    "    if bond_distance < maximum_value and bond_distance > minimum_value: #name should match that in parantheses\n",
    "        return True\n",
    "    else:\n",
    "        return False\n",
    "\n",
    "    #if using min and max when defining the function, need to make sure if is in the if statement of the for loop where the function is later used\n",
    "    #can also define the specific min and max values in the defining line of the function to set min and max default values"
   ]
  },
  {
   "cell_type": "code",
   "execution_count": 17,
   "metadata": {},
   "outputs": [
    {
     "name": "stdout",
     "output_type": "stream",
     "text": [
      "H1 to O : 0.969\n",
      "H2 to O : 0.969\n"
     ]
    }
   ],
   "source": [
    "for numA, atomA in enumerate(coordinates):\n",
    "    for numB, atomB in enumerate(coordinates):\n",
    "        if numB<numA:\n",
    "            distance_AB=calculate_distance(atomA, atomB)\n",
    "            if bond_check(distance_AB,minimum_value=0,maximum_value=1.5) is True:\n",
    "                print(F'{symbols[numA]} to {symbols[numB]} : {distance_AB:.3f}')"
   ]
  },
  {
   "cell_type": "code",
   "execution_count": 12,
   "metadata": {},
   "outputs": [],
   "source": [
    "#for numA, atomA in enumerate(coordinates):\n",
    "    #for numB, atomB in enumerate(coordinates):\n",
    "        #if numB<numA:\n",
    "            #x_distance = atomA[0]-atomB[0]\n",
    "            #y_distance = atomA[1]-atomB[1]\n",
    "            #z_distance = atomA[2]-atomB[2]\n",
    "            #distance = numpy.sqrt(x_distance**2 + y_distance**2 + z_distance**2)\n",
    "            #if distance>0 and distance<1.5: #add if statement to sort out the distances we want, must come after distance line\n",
    "                #if bond_check(distance_AB) is True:\n",
    "                    #print(F'{symbols[numA]} to {symbols[numB]}:{distance:.3f}')\n",
    "                    \n",
    "        "
   ]
  },
  {
   "cell_type": "markdown",
   "metadata": {},
   "source": [
    "## functions"
   ]
  },
  {
   "cell_type": "code",
   "execution_count": 13,
   "metadata": {},
   "outputs": [],
   "source": [
    "#def function_name(parameters):\n",
    "    #lines of code\n",
    "    #lines of code\n",
    "    #lines of code\n",
    "    #return value_to_return #basic idea of functions"
   ]
  },
  {
   "cell_type": "code",
   "execution_count": null,
   "metadata": {},
   "outputs": [],
   "source": [
    "#can enter our code into a text editor"
   ]
  }
 ],
 "metadata": {
  "kernelspec": {
   "display_name": "Python 3",
   "language": "python",
   "name": "python3"
  },
  "language_info": {
   "codemirror_mode": {
    "name": "ipython",
    "version": 3
   },
   "file_extension": ".py",
   "mimetype": "text/x-python",
   "name": "python",
   "nbconvert_exporter": "python",
   "pygments_lexer": "ipython3",
   "version": "3.7.3"
  }
 },
 "nbformat": 4,
 "nbformat_minor": 2
}
